{
 "cells": [
  {
   "cell_type": "markdown",
   "metadata": {},
   "source": [
    "# Project 0: Inaugural Project"
   ]
  },
  {
   "cell_type": "markdown",
   "metadata": {},
   "source": [
    "Import packages"
   ]
  },
  {
   "cell_type": "code",
   "execution_count": null,
   "metadata": {},
   "outputs": [],
   "source": [
    "# Load all packages at the beginning:\n",
    "\n",
    "import numpy as np\n",
    "%matplotlib inline\n",
    "import matplotlib.pyplot as plt # baseline modul\n",
    "\n",
    "# autoreload modules when code is run \n",
    "%load_ext autoreload\n",
    "%autoreload 2"
   ]
  },
  {
   "cell_type": "markdown",
   "metadata": {},
   "source": [
    "## Question 1"
   ]
  },
  {
   "cell_type": "markdown",
   "metadata": {},
   "source": [
    "Construct a function which solves eq. (1) given the parameters."
   ]
  },
  {
   "cell_type": "markdown",
   "metadata": {},
   "source": [
    "**Explanation:** We have first defined two functions: the utility-function as well as the resources-function (res). These are the applied equivalents to the utility as well as the budget constraint (which is the wealth and income net of tax). Secondly, we defined a function that maximizes the utility through a loop. To call the utility maximizing function and print the solution we defined another function (print_solution), which shows the solution for the maximal, minimum and median value of the wage variable."
   ]
  },
  {
   "cell_type": "code",
   "execution_count": null,
   "metadata": {},
   "outputs": [],
   "source": [
    "# Define the Utility-function:\n",
    "\n",
    "def utility_function(c,l, v, epsilon):\n",
    "    \"\"\" utility of consumption and labor\n",
    "    \n",
    "    Args:\n",
    "    \n",
    "        c (ndarray): consumption\n",
    "        l (ndarray): labor supply values\n",
    "        v (float): scale the disutility of labor\n",
    "        epsilon (float): Frisch elasticity of labor supply\n",
    "        \n",
    "    Returns:\n",
    "    \n",
    "        (float): utility of consumption and labor\n",
    "    \n",
    "    \"\"\"\n",
    "    \n",
    "    return (np.log(c)-v*((l**(1+1/epsilon))/(1+1/epsilon)))  \n",
    "    \n",
    "# Define the resources (constraint)\n",
    "\n",
    "def res(l, m, w, tau_0, tau_1, kappa):\n",
    "    \"\"\" total resources x\n",
    "    \n",
    "    Args:\n",
    "    \n",
    "        l_values (ndarray): possible values of labor supply\n",
    "        m (float): cash-on-hand\n",
    "        w (ndarray): possible values of wage\n",
    "        tau_0 (float): standard labor income tax\n",
    "        tau_1 (float): top bracket labor income tax\n",
    "        kappa (float): cut-off for top labor income bracket\n",
    "        \n",
    "    Returns:\n",
    "    \n",
    "        (ndarray): total resources which equal to c*                \n",
    "    \n",
    "    \"\"\"\n",
    "    x =  m+w*l-[tau_0*w*l+tau_1*np.fmax(w*l-kappa,0)]\n",
    "    return x.reshape(-1,1)"
   ]
  },
  {
   "cell_type": "code",
   "execution_count": null,
   "metadata": {},
   "outputs": [],
   "source": [
    "# Define a function that maximizes Utility through a loop:\n",
    "\n",
    "def find_best_choice (l, v, epsilon, m, w, tau_0, tau_1, kappa):\n",
    "    \"\"\" solve for optimal labor choice\n",
    "    \n",
    "    Args:\n",
    "        l (ndarray): possible values of labor supply\n",
    "        v (float): scale the disutility of labor\n",
    "        epsilon (float): Frisch elasticity of labor supply\n",
    "        m (float): cash-on-hand\n",
    "        w (ndarray): possible values of wage\n",
    "        tau_0 (float): standard labor income tax\n",
    "        tau_1 (float): top bracket labor income tax\n",
    "        kappa (float): cut-off for top labor income bracket\n",
    "    \n",
    "    Returns:\n",
    "    \n",
    "        c_best (ndarray): best consumption choices given wage\n",
    "        l_best (ndarray): best labor supply choices given wage\n",
    "        u_best (ndarray): implied utility given wage\n",
    "    \n",
    "    \"\"\"\n",
    "    # a. set empty array/ matrix to be filled with values\n",
    "    u_values = np.empty([w.size, l.size])\n",
    "    l_best = np.empty(w.size)\n",
    "    c_best = np.empty(w.size)\n",
    "    u_best = np.empty(w.size)\n",
    "    \n",
    "    # b. given wage w\n",
    "    for i in range(w.size):\n",
    "        w_now = w[i]\n",
    "        \n",
    "    # c. loop through all possible l_values\n",
    "        for j in range(l.size):\n",
    "                # i. define labor supply and implied optimal consumption  \n",
    "                l_now = l[j]\n",
    "                c = res(l_now, m, w_now, tau_0, tau_1, kappa)\n",
    "                # ii. utility given wage i and labor supply j\n",
    "                u_values[i,j] = utility_function(c, l_now, v, epsilon)\n",
    "                # iii. check if best sofar given wage i\n",
    "                if u_values[i,j] > u_best[i]:\n",
    "                    l_best[i] = l_now\n",
    "                    c_best[i] = c\n",
    "                    u_best[i] = u_values[i,j]\n",
    "                    \n",
    "    return c_best, l_best, u_best"
   ]
  },
  {
   "cell_type": "code",
   "execution_count": null,
   "metadata": {},
   "outputs": [],
   "source": [
    "# Define a function that prints the solution:\n",
    "\n",
    "def print_solution(l, v, epsilon, m, w, tau_0, tau_1, kappa):\n",
    "    \n",
    "    c_best, l_best, u_best = find_best_choice (l, v, epsilon, m, w, tau_0, tau_1, kappa)\n",
    "    \n",
    "    # a. min wage leads to values    \n",
    "    text = 'min wage = '\n",
    "    text += f'{w[0]:.2f}: '\n",
    "    text += '(optimal consumption = '\n",
    "    text += f'{c_best[0]:.2f}; '\n",
    "    text += 'optimal labor supply = '\n",
    "    text += f'{l_best[0]:.2f}) '\n",
    "    text += f'\\n'\n",
    "    \n",
    "    print(text)\n",
    "    \n",
    "    # b. median wage leads to values    \n",
    "    text = 'median wage = '\n",
    "    text += f'{w[len(w)//2]:.2f}: '\n",
    "    text += '(optimal consumption = '\n",
    "    text += f'{c_best[len(w)//2]:.2f}; '\n",
    "    text += 'optimal labor supply = '\n",
    "    text += f'{l_best[len(w)//2]:.2f}) '\n",
    "    text += f'\\n'\n",
    "    \n",
    "    print(text)\n",
    "    \n",
    "    # c. max wage leads to values    \n",
    "    text = 'max wage = '\n",
    "    text += f'{w[-1]:.2f}: '\n",
    "    text += '(optimal consumption = '\n",
    "    text += f'{c_best[-1]:.2f}; '\n",
    "    text += 'optimal labor supply = '\n",
    "    text += f'{l_best[-1]:.2f}) '\n",
    "    text += f'\\n'\n",
    "    \n",
    "    print(text)\n",
    "    "
   ]
  },
  {
   "cell_type": "markdown",
   "metadata": {},
   "source": [
    "We use the following parameter values \n",
    "\n",
    "m=1, ν=10, ε=0.3, τ0 =0.4, τ1 =0.1, κ=0.4"
   ]
  },
  {
   "cell_type": "code",
   "execution_count": null,
   "metadata": {},
   "outputs": [],
   "source": [
    "# Define parameters:\n",
    "\n",
    "m = 1 # cash-on-hand\n",
    "v = 10 # scale the disutility of labor\n",
    "epsilon = 0.3 # Frisch elasticity of labor supply\n",
    "tau_0 = 0.4 # standard labor income tax\n",
    "tau_1 = 0.1 # top bracket labor income tax\n",
    "kappa = 0.4 # cut-off for top labor income bracket"
   ]
  },
  {
   "cell_type": "markdown",
   "metadata": {},
   "source": [
    "## Question 2"
   ]
  },
  {
   "cell_type": "markdown",
   "metadata": {},
   "source": [
    "Plot l⋆ and c⋆ as functions of w in the range 0.5 to 1.5."
   ]
  },
  {
   "cell_type": "markdown",
   "metadata": {},
   "source": [
    "**Explanation:** We first call the print_solution function in order to test if the results make sense, they do indeed. The plots show that labor supply is an increasing concave function of wage, except at wage=1 where a kink in the function can be found. The kink can be explained by the fact that at wage=1, optimal labor is exactly equal to 0.4, which is kappa, the cut-off for top labor income bracket. So, from the point (wage=1, optimal labor supply=0.4) on, income is taxed at a higher rate. As at the same time, labor supply (hours) have a negative effect on the utility, the latter are reduced as the substitution effect dominates the income effect. \n",
    "Consumption as a consequence is a strictly increasing function of the wage except around wage=1 where is non-increasing and non-decreasing."
   ]
  },
  {
   "cell_type": "code",
   "execution_count": null,
   "metadata": {},
   "outputs": [],
   "source": [
    "# Define values for wage and labor supply:\n",
    "                       \n",
    "n = 1000                                                                     \n",
    "\n",
    "# define wage values:\n",
    "w_values = np.linspace(0.5,1.5,n)\n",
    "\n",
    "# define labor supply values between 0 and 1:\n",
    "l_values = np.linspace(0, 1, n)"
   ]
  },
  {
   "cell_type": "code",
   "execution_count": null,
   "metadata": {
    "scrolled": true
   },
   "outputs": [],
   "source": [
    "# Test our function:\n",
    "\n",
    "print_solution(l_values, v, epsilon, m, w_values, tau_0, tau_1, kappa)"
   ]
  },
  {
   "cell_type": "code",
   "execution_count": null,
   "metadata": {},
   "outputs": [],
   "source": [
    "# Define a function that plots the results:\n",
    "\n",
    "def plot(l, v, epsilon, m, w, tau_0, tau_1, kappa):\n",
    "    \"\"\" plot optimal choices of consumption and labor supply dependent on wage w\n",
    "    \n",
    "    Args:\n",
    "        l (ndarray): possible values of labor supply\n",
    "        v (float): scale the disutility of labor\n",
    "        epsilon (float): Frisch elasticity of labor supply\n",
    "        m (float): cash-on-hand\n",
    "        w (ndarray): possible values of wage\n",
    "        tau_0 (float): standard labor income tax\n",
    "        tau_1 (float): top bracket labor income tax\n",
    "        kappa (float): cut-off for top labor income bracket\n",
    "        \n",
    "    \"\"\"\n",
    "         \n",
    "\n",
    "    # plot\n",
    "    plt.style.use(\"seaborn\")\n",
    "\n",
    "    # a. create the figure\n",
    "    fig = plt.figure(figsize=(10,4))\n",
    "\n",
    "    # b. unpack solution\n",
    "    c_best, l_best, u_best = find_best_choice(l, v, epsilon, m, w, tau_0, tau_1, kappa)\n",
    "\n",
    "    # c. left plot\n",
    "    ax_left = fig.add_subplot(1,2,1)\n",
    "\n",
    "    ax_left.plot(w, l_best)\n",
    "\n",
    "    ax_left.set_title('optimal labor supply')\n",
    "    ax_left.set_xlabel('wage')\n",
    "    ax_left.set_ylabel('$l*$')\n",
    "    ax_left.set_ylim([0.3,0.5])\n",
    "    ax_left.set_xlim([np.min(w),np.max(w)])\n",
    "    ax_left.grid(True)\n",
    "\n",
    "    # c. right plot\n",
    "    ax_right = fig.add_subplot(1,2,2)\n",
    "\n",
    "    ax_right.plot(w, c_best)\n",
    "\n",
    "    ax_right.set_title('optimal consumption')\n",
    "    ax_right.set_xlabel('wage')\n",
    "    ax_right.set_ylabel('$c*$')\n",
    "    ax_right.set_ylim([1,1.4])\n",
    "    ax_right.set_xlim([np.min(w),np.max(w)])\n",
    "    ax_right.grid(True)"
   ]
  },
  {
   "cell_type": "code",
   "execution_count": null,
   "metadata": {},
   "outputs": [],
   "source": [
    "# Call the plot-function:\n",
    "\n",
    "plot(l_values, v, epsilon, m, w_values, tau_0, tau_1, kappa)"
   ]
  },
  {
   "cell_type": "markdown",
   "metadata": {},
   "source": [
    " Consider a population with N = 10, 000 individuals indexed by i. Assume the distribution of wages is uniform such that"
   ]
  },
  {
   "cell_type": "code",
   "execution_count": null,
   "metadata": {},
   "outputs": [],
   "source": [
    "# Considering a population with N indiviudals indexed by i:                                                          \n",
    "\n",
    "# Population \n",
    "N = 10000 \n",
    "\n",
    "# Drawing random wages \n",
    "seed = 22\n",
    "np.random.seed(seed)\n",
    "w = np.random.uniform(low=0.5,high=1.5,size=N)\n",
    "\n",
    "# Define labor supply values between 0 and 1:\n",
    "l = np.linspace(0, 1, 1000)"
   ]
  },
  {
   "cell_type": "code",
   "execution_count": null,
   "metadata": {},
   "outputs": [],
   "source": [
    "# optimal choice\n",
    "def individual_best_solution(l, v, epsilon, m, w, tau_0, tau_1, kappa):\n",
    "    \n",
    "    c_best, l_best, u_best = find_best_choice (l, v, epsilon, m, w, tau_0, tau_1, kappa)\n",
    "    \n",
    "    individual_best_solution = np.empty([w.size, 4])\n",
    "    \n",
    "    for i in range(w.size):\n",
    "        individual_best_solution[i,0] = w[i]\n",
    "        individual_best_solution[i,1] = c_best[i]\n",
    "        individual_best_solution[i,2] = l_best[i]\n",
    "        individual_best_solution[i,3] = u_best[i]\n",
    "          \n",
    "    return individual_best_solution"
   ]
  },
  {
   "cell_type": "code",
   "execution_count": null,
   "metadata": {},
   "outputs": [],
   "source": [
    "print_solution(l, v, epsilon, m, w, tau_0, tau_1, kappa)"
   ]
  },
  {
   "cell_type": "markdown",
   "metadata": {},
   "source": [
    "## Question 3"
   ]
  },
  {
   "cell_type": "markdown",
   "metadata": {},
   "source": [
    "Calculate the total tax revenue"
   ]
  },
  {
   "cell_type": "markdown",
   "metadata": {},
   "source": [
    "**Explantion:** The total tax revenue is 1616.13. This result makes sense if wages are uniformly distributed between 0,5 and 1,5 and optimal labor supply is somehow between 0.325 and 0.425 and taxed by 40% with 10’000 agents."
   ]
  },
  {
   "cell_type": "code",
   "execution_count": null,
   "metadata": {},
   "outputs": [],
   "source": [
    "# Define a tax revenue function:\n",
    "def tax_rev(l, v, epsilon, m, w, tau_0, tau_1, kappa, do_print=True):\n",
    "    \"\"\" Total Tax Revenue\n",
    "    \n",
    "    Args:\n",
    "        l (ndarray): possible values of labor supply\n",
    "        v (float): scale the disutility of labor\n",
    "        epsilon (float): Frisch elasticity of labor supply\n",
    "        m (float): cash-on-hand\n",
    "        w (ndarray): possible values of wage\n",
    "        tau_0 (float): standard labor income tax\n",
    "        tau_1 (float): top bracket labor income tax\n",
    "        kappa (float): cut-off for top labor income bracket\n",
    "        \n",
    "    Returns:\n",
    "    \n",
    "       taxrev (float): Total Tax Revenue\n",
    "    \n",
    "    \"\"\"\n",
    "    \n",
    "    c_star, l_star, u_star = find_best_choice(l, v, epsilon, m, w, tau_0, tau_1, kappa)\n",
    "    taxrev = tau_0*np.sum(w*l_star)+tau_1*np.sum(np.fmax(w*l_star-kappa,0)) \n",
    "    text = f'Total Tax Revenue = {taxrev:.3f}'\n",
    "    # d. print\n",
    "    if do_print:\n",
    "        print(text)\n",
    "    return taxrev    "
   ]
  },
  {
   "cell_type": "code",
   "execution_count": null,
   "metadata": {
    "scrolled": true
   },
   "outputs": [],
   "source": [
    "# Call the tax_rev function:\n",
    "tax_rev(l, v, epsilon, m, w, tau_0, tau_1, kappa)"
   ]
  },
  {
   "cell_type": "markdown",
   "metadata": {},
   "source": [
    "## Question 4"
   ]
  },
  {
   "cell_type": "markdown",
   "metadata": {},
   "source": [
    "What would the tax revenue be if instead ε = 0.1?"
   ]
  },
  {
   "cell_type": "markdown",
   "metadata": {},
   "source": [
    "**Explanation:** The tax revenue increased to 3170.88. This is very intuitive, as elasticity is smaller, agents react less strongly to taxes and hence work more. "
   ]
  },
  {
   "cell_type": "code",
   "execution_count": null,
   "metadata": {},
   "outputs": [],
   "source": [
    "# Epsilon is 0.1 instead of 0.3:\n",
    "epsilon_new = 0.1\n",
    "\n",
    "# Print solution of optimal consumptions and labor supply given the new epsilon value\n",
    "print_solution(l, v, epsilon_new, m, w, tau_0, tau_1, kappa)\n",
    "\n",
    "# Call the tax_rev function with the new epsilon:\n",
    "tax_rev(l, v, epsilon_new, m, w, tau_0, tau_1, kappa)"
   ]
  },
  {
   "cell_type": "markdown",
   "metadata": {},
   "source": [
    "## Question 5"
   ]
  },
  {
   "cell_type": "markdown",
   "metadata": {},
   "source": [
    "Consider a politician who wishes to maximize the tax revenue."
   ]
  },
  {
   "cell_type": "markdown",
   "metadata": {},
   "source": [
    "Which τ0, τ1 and κ would you suggest her to implement? Report the tax revenue you expect to obtain."
   ]
  },
  {
   "cell_type": "markdown",
   "metadata": {},
   "source": [
    "**Explanation:** We defined a function that maximize the tax revenue.  Using different input values for the τ0, τ1, and κ, we calculate the tax revenue for each input given the best choices of labor supply and consumption by looping through all input values. Then we take the maximal tax revenue and report the optimal input values. Unfortunately, the code is really computationally expensive."
   ]
  },
  {
   "cell_type": "code",
   "execution_count": null,
   "metadata": {},
   "outputs": [],
   "source": [
    "# Define a tax revenue maximization function:\n",
    "\n",
    "def tax_max(l, v, epsilon, m, w, tau_0, tau_1, kappa):\n",
    "    \"\"\" Optimal Total Tax Revenue given set of tau_0, tau_1, and kappa \n",
    "    \n",
    "    Args:\n",
    "        l (ndarray): possible values of labor supply\n",
    "        v (float): scale the disutility of labor\n",
    "        epsilon (float): Frisch elasticity of labor supply\n",
    "        m (float): cash-on-hand\n",
    "        w (ndarray): possible values of wage\n",
    "        tau_0 (ndarray): set of standard labor income tax policy values\n",
    "        tau_1 (ndarray): set of top bracket labor income tax policy values\n",
    "        kappa (ndarray): set of cut-off for top labor income bracket policy values\n",
    "        \n",
    "    Returns:\n",
    "    \n",
    "       Text: Maximal Tax Revenue = tax_max \n",
    "             with:\n",
    "             Tau0 optimal: tau_0_best\n",
    "             Tau1 optimal: tau_1_best\n",
    "             Kappa optimal: kappa_best\n",
    "    \n",
    "    \"\"\"\n",
    "    # a. set empty array/ matrix to be filled with values\n",
    "    rev = np.empty([tau_0.size, tau_1.size, kappa.size])    \n",
    "    # b. loop through all possible tau_0 values\n",
    "    for i in range(tau_0.size):\n",
    "        tau_0_now = tau_0[i]\n",
    "        \n",
    "    # c. loop through all possible tau_1 values\n",
    "        for j in range(tau_1.size):\n",
    "            tau_1_now = tau_1[j]\n",
    "                \n",
    "    # d. loop through all possible kappa values\n",
    "            for k in range(kappa.size):\n",
    "                kappa_now = kappa[k]\n",
    "                \n",
    "                # i. calcuate tax revenue \n",
    "                rev[i,j,k] = tax_rev(l, v, epsilon, m, w, tau_0_now, tau_1_now, kappa_now, do_print=False)\n",
    "    \n",
    "                \n",
    "    # e.\n",
    "    tax_max = np.max(rev)\n",
    "    index_max = np.unravel_index(np.argmax(rev, axis=None), rev.shape)\n",
    "    tau_0_best = tau_0[index_max[0]]\n",
    "    tau_1_best = tau_1[index_max[1]]\n",
    "    kappa_best = kappa[index_max[2]]\n",
    "    \n",
    "    # f.\n",
    "    text = f'Maximal Tax Revenue = {tax_max:.3f} '\n",
    "    text += f'\\n'\n",
    "    text += f' with:\\n'\n",
    "    text += f'Tau0 optimal: {tau_0_best:.3f}'\n",
    "    text += f'\\n'\n",
    "    text += f'Tau1 optimal: {tau_1_best:.3f}'\n",
    "    text += f'\\n'\n",
    "    text += f'Kappa optimal: {kappa_best:.3f}'\n",
    "    \n",
    "    print(text)"
   ]
  },
  {
   "cell_type": "code",
   "execution_count": null,
   "metadata": {},
   "outputs": [],
   "source": [
    "# possible tax-policy values\n",
    "tau_0_space = np.linspace(0.1, 1, 10)\n",
    "tau_1_space = np.linspace(0.1, 1, 10)\n",
    "kappa_space = np.linspace(0.1, 1, 10)"
   ]
  },
  {
   "cell_type": "code",
   "execution_count": null,
   "metadata": {},
   "outputs": [],
   "source": [
    "# Call tax revenue maximization function with the old epsilon:\n",
    "tax_max(l, v, epsilon, m, w, tau_0_space, tau_1_space, kappa_space)"
   ]
  },
  {
   "cell_type": "code",
   "execution_count": null,
   "metadata": {},
   "outputs": [],
   "source": [
    "# Call tax revenue maximization function with the new epsilon:\n",
    "tax_max(l, v, epsilon_new, m, w, tau_0_space, tau_1_space, kappa_space)"
   ]
  },
  {
   "cell_type": "markdown",
   "metadata": {},
   "source": [
    "## Conclusion"
   ]
  },
  {
   "cell_type": "markdown",
   "metadata": {},
   "source": [
    "Our inaugural project suffers from computational inefficiencies. Especially, the optimisation using a loop is really slow and might therefore not be the best approach. Nevertheless, we got results that are economically reasonable. "
   ]
  }
 ],
 "metadata": {
  "kernelspec": {
   "display_name": "Python 3",
   "language": "python",
   "name": "python3"
  },
  "language_info": {
   "codemirror_mode": {
    "name": "ipython",
    "version": 3
   },
   "file_extension": ".py",
   "mimetype": "text/x-python",
   "name": "python",
   "nbconvert_exporter": "python",
   "pygments_lexer": "ipython3",
   "version": "3.7.3"
  }
 },
 "nbformat": 4,
 "nbformat_minor": 2
}
