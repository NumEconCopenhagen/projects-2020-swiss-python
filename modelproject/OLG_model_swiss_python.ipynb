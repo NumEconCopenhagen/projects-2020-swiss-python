{
 "cells": [
  {
   "cell_type": "markdown",
   "metadata": {},
   "source": [
    "# Introduction to Programming and Numerical Analysis: Model Project "
   ]
  },
  {
   "cell_type": "code",
   "execution_count": 1,
   "metadata": {},
   "outputs": [],
   "source": [
    "# We import all the necessary packets at the beginning of our code:\n",
    "\n",
    "import numpy as np\n",
    "from scipy import linalg\n",
    "from scipy import optimize\n",
    "import sympy as sm\n",
    "sm.init_printing(use_unicode=True)\n",
    "\n",
    "%matplotlib inline\n",
    "import matplotlib.pyplot as plt\n",
    "plt.style.use('seaborn-whitegrid')\n",
    "from matplotlib import cm\n",
    "from mpl_toolkits.mplot3d import Axes3D\n",
    "\n",
    "import ipywidgets as widgets"
   ]
  },
  {
   "cell_type": "markdown",
   "metadata": {},
   "source": [
    "## **Basic OLG**"
   ]
  },
  {
   "cell_type": "markdown",
   "metadata": {},
   "source": [
    "### **Introduction & household optimization**\n",
    "\n",
    "The Overlapping Generations Model (OLG) is a class of models in order to study the development of an economy, mostly economic growth. OLG models are characterized by discrete time periods such that in every period at least two different generations live. In the case we study here, there are two generations per period; a young generation that works and an old generation that is retired (meaning that the individuals themselves also only live for two periods, however they overlap with each others life cycles). They all consume in both periods but they only save in their life-time period 1 as they die at the end of period 2 and use all their resources before doing so. Hence, they have a labor income in their 1st period and a capital income in their 2nd period.\n",
    "\n",
    "- **Beginning of period t:** generation t born\n",
    "- **Period t:** generation t works\n",
    "- **End of period t:** genertaion t consumes and saves\n",
    "- **Period t+1:** generation t lends\n",
    "- **End of period t+1:** generation t consumes and dies\n",
    "\n",
    "We will first solve the general case of the model and then complement the model by including the government, which raises taxes or issues debt-bonds. By that, we show that the model is applicable in a much broader setting and therefore also of use to answer more sophisticated questions."
   ]
  },
  {
   "cell_type": "markdown",
   "metadata": {},
   "source": [
    "First of all, we have the following CRRA life-time utility function:\n",
    "\n",
    "\\begin{eqnarray*}\n",
    "U_t=\\frac{C_{1t}^{1-\\theta}}{1-\\theta} + \\frac{1}{(1+\\rho)}\\frac{C_{2t+1}^{1-\\theta}}{1-\\theta}\n",
    "\\end{eqnarray*}\n",
    "\n",
    "However, due to simpliticity, but also as theta is not significantly different from 1 in many studies, we take\n",
    "\n",
    "\\begin{eqnarray*}\n",
    "\\theta=1\n",
    "\\end{eqnarray*}\n",
    "\n",
    "Consequently, we need then to logarithmize and get:\n",
    "\n",
    "\\begin{eqnarray*}\n",
    "U_t=ln⁡(C_{1t})+ \\frac{1}{(1+\\rho)}ln⁡(C_{2t+1})\n",
    "\\end{eqnarray*}\n",
    "\n",
    "Furthermore, households have the following budget constraint:\n",
    "\n",
    "\\begin{eqnarray*}\n",
    "A_tw_t=⁡C_{1t}+ \\frac{C_{2t+1}}{1+r_{t+1}}\n",
    "\\end{eqnarray*}\n",
    "\n",
    "which comes from the single period constraints:\n",
    "\n",
    "\\begin{eqnarray*}\n",
    "C_{1t}=A_tw_t-S_t\n",
    "\\end{eqnarray*}\n",
    "\n",
    "and\n",
    "\n",
    "\\begin{eqnarray*}\n",
    "C_{2t+1}=(1+r_{t+1} )S_t\n",
    "\\end{eqnarray*}\n",
    "\n",
    "- $U_t$ = life-time utility\n",
    "- $C_1$ = consumption as young (in period t)\n",
    "- $C_2$ = consumption as old (in period t+1)\n",
    "- $\\rho$ = discount rate on consumption (>-1)\n",
    "- $\\theta$ = risk aversion parameter\n",
    "- $A_t$ = total factor productivity in period t\n",
    "- $w_t$ = wage rate\n",
    "- $S_t$ = savings in period t\n",
    "- $r_{t+1}$ = interest rate on savings (technicially paid at the end of period t+1)\n",
    "<p>         <br>"
   ]
  },
  {
   "cell_type": "code",
   "execution_count": 2,
   "metadata": {},
   "outputs": [],
   "source": [
    "# Define the first sympy variables and parameters: \n",
    "\n",
    "Ut = sm.symbols('U_t')\n",
    "C1t = sm.symbols('C_1t')\n",
    "C2t1 = sm.symbols('C_2t+1')\n",
    "\n",
    "alpha = sm.symbols('alpha')\n",
    "rho = sm.symbols('rho')\n",
    "\n",
    "rt1 = sm.symbols('r_t+1') \n",
    "wt = sm.symbols('w_t') \n",
    "\n",
    "At = sm.symbols('A_t') \n",
    "St = sm.symbols('S_t') # total savings\n",
    "s = sm.symbols('s(r_t+1)') # saving rate"
   ]
  },
  {
   "cell_type": "code",
   "execution_count": 3,
   "metadata": {},
   "outputs": [
    {
     "name": "stdout",
     "output_type": "stream",
     "text": [
      "Utility Function:\n"
     ]
    },
    {
     "data": {
      "image/png": "[encoded data removed]",
      "text/latex": [
       "$\\displaystyle U_{t} = \\log{\\left(C_{1t} \\right)} + \\frac{\\log{\\left(C_{2t+1} \\right)}}{\\rho + 1}$"
      ],
      "text/plain": [
       "                log(C₂ₜ₊₁)\n",
       "Uₜ = log(C₁ₜ) + ──────────\n",
       "                  ρ + 1   "
      ]
     },
     "metadata": {},
     "output_type": "display_data"
    }
   ],
   "source": [
    "# Define the utiliy function as sympy:\n",
    "\n",
    "utility_function = sm.ln(C1t)+(1/(1+rho))*sm.ln(C2t1)\n",
    "print('Utility Function:')\n",
    "display(sm.Eq(Ut,utility_function))"
   ]
  },
  {
   "cell_type": "code",
   "execution_count": 4,
   "metadata": {},
   "outputs": [
    {
     "name": "stdout",
     "output_type": "stream",
     "text": [
      "Budget Constraints 1 & 2 as defined above:\n"
     ]
    },
    {
     "data": {
      "image/png": "[encoded data removed]",
      "text/latex": [
       "$\\displaystyle C_{1t} = A_{t} w_{t} - S_{t}$"
      ],
      "text/plain": [
       "C₁ₜ = Aₜ⋅wₜ - Sₜ"
      ]
     },
     "metadata": {},
     "output_type": "display_data"
    },
    {
     "data": {
      "image/png": "[encoded data removed]",
      "text/latex": [
       "$\\displaystyle C_{2t+1} = S_{t} \\left(r_{t+1} + 1\\right)$"
      ],
      "text/plain": [
       "C₂ₜ₊₁ = Sₜ⋅(rₜ₊₁ + 1)"
      ]
     },
     "metadata": {},
     "output_type": "display_data"
    },
    {
     "name": "stdout",
     "output_type": "stream",
     "text": [
      "Combine the constraints:\n"
     ]
    },
    {
     "data": {
      "image/png": "[encoded data removed]",
      "text/latex": [
       "$\\displaystyle C_{1t} = A_{t} w_{t} - \\frac{C_{2t+1}}{r_{t+1} + 1}$"
      ],
      "text/plain": [
       "               C₂ₜ₊₁  \n",
       "C₁ₜ = Aₜ⋅wₜ - ────────\n",
       "              rₜ₊₁ + 1"
      ]
     },
     "metadata": {},
     "output_type": "display_data"
    },
    {
     "name": "stdout",
     "output_type": "stream",
     "text": [
      "Reformulate:\n"
     ]
    },
    {
     "data": {
      "image/png": "[encoded data removed]",
      "text/latex": [
       "$\\displaystyle C_{1t} + \\frac{C_{2t+1}}{r_{t+1} + 1} = A_{t} w_{t}$"
      ],
      "text/plain": [
       "       C₂ₜ₊₁          \n",
       "C₁ₜ + ──────── = Aₜ⋅wₜ\n",
       "      rₜ₊₁ + 1        "
      ]
     },
     "metadata": {},
     "output_type": "display_data"
    }
   ],
   "source": [
    "# Define the budget constraints as sympy:\n",
    "\n",
    "budget_constraint_p1 = sm.Eq(C1t,wt*At-St)\n",
    "budget_constraint_p2 = sm.Eq(C2t1,(1+rt1)*St)\n",
    "\n",
    "St_from_bcp2 = sm.solve(budget_constraint_p2,St)\n",
    "budget_constraint_by_sympy = budget_constraint_p1.subs(St,St_from_bcp2[0])\n",
    "\n",
    "# Define budget constraint as in the outline:\n",
    "\n",
    "budget_constraint = sm.Eq(C1t+(C2t1/(1+rt1)),wt*At)\n",
    "\n",
    "# Showing the results:\n",
    "print('Budget Constraints 1 & 2 as defined above:')\n",
    "display(budget_constraint_p1) \n",
    "display(budget_constraint_p2) \n",
    "print('Combine the constraints:')\n",
    "display(budget_constraint_by_sympy)\n",
    "print('Reformulate:')\n",
    "display(budget_constraint)"
   ]
  },
  {
   "cell_type": "code",
   "execution_count": 5,
   "metadata": {},
   "outputs": [
    {
     "name": "stdout",
     "output_type": "stream",
     "text": [
      "optimal Consumption in period 1:\n"
     ]
    },
    {
     "data": {
      "image/png": "[encoded data removed]",
      "text/latex": [
       "$\\displaystyle C_{1t} = \\frac{A_{t} w_{t} \\left(\\rho + 1\\right)}{\\rho + 2}$"
      ],
      "text/plain": [
       "      Aₜ⋅wₜ⋅(ρ + 1)\n",
       "C₁ₜ = ─────────────\n",
       "          ρ + 2    "
      ]
     },
     "metadata": {},
     "output_type": "display_data"
    },
    {
     "name": "stdout",
     "output_type": "stream",
     "text": [
      "optimal Consumption in period 2:\n"
     ]
    },
    {
     "data": {
      "image/png": "[encoded data removed]",
      "text/latex": [
       "$\\displaystyle C_{2t+1} = \\frac{A_{t} w_{t} \\left(r_{t+1} + 1\\right)}{\\rho + 2}$"
      ],
      "text/plain": [
       "        Aₜ⋅wₜ⋅(rₜ₊₁ + 1)\n",
       "C₂ₜ₊₁ = ────────────────\n",
       "             ρ + 2      "
      ]
     },
     "metadata": {},
     "output_type": "display_data"
    },
    {
     "name": "stdout",
     "output_type": "stream",
     "text": [
      "Euler Equation:\n"
     ]
    },
    {
     "data": {
      "image/png": "[encoded data removed]",
      "text/latex": [
       "$\\displaystyle \\frac{C_{2t+1}}{C_{1t}} = \\frac{r_{t+1} + 1}{\\rho + 1}$"
      ],
      "text/plain": [
       "C₂ₜ₊₁   rₜ₊₁ + 1\n",
       "───── = ────────\n",
       " C₁ₜ     ρ + 1  "
      ]
     },
     "metadata": {},
     "output_type": "display_data"
    }
   ],
   "source": [
    "# Optimum value for C1t by inserting budget constraint into the utility function and differentiating:\n",
    "\n",
    "C2t1_from_con = sm.solve(budget_constraint,C2t1)\n",
    "objective_subs = utility_function.subs(C2t1,C2t1_from_con[0])\n",
    "foc1 = sm.diff(objective_subs,C1t)\n",
    "sol1 = sm.solve(sm.Eq(foc1,0),C1t)\n",
    "opt_C1t = sm.Eq(C1t,sol1[0])\n",
    "\n",
    "# Optimum value for C2t1 by inserting budget constraint into the utility function and differentiating:\n",
    "\n",
    "C1t_from_con = sm.solve(budget_constraint,C1t)\n",
    "objective_subs = utility_function.subs(C1t,C1t_from_con[0])\n",
    "foc2 = sm.diff(objective_subs,C2t1)\n",
    "sol2 = sm.solve(sm.Eq(foc2,0),C2t1)\n",
    "opt_C2t1 = sm.Eq(C2t1,sol2[0])\n",
    "\n",
    "# We can then straightforward derive the Euler-equation (C2t1/C1t) by taking together the two latter results. \n",
    "# The Euler-equation has the advantage that it shows the relative change in consumption and not the level.\n",
    "\n",
    "euler = sol2[0]/sol1[0]\n",
    "euler_equation=sm.Eq(C2t1/C1t,euler)\n",
    "\n",
    "# Showing the results:\n",
    "print('optimal Consumption in period 1:')\n",
    "display(opt_C1t)\n",
    "print('optimal Consumption in period 2:')\n",
    "display(opt_C2t1)\n",
    "print('Euler Equation:')\n",
    "display(euler_equation)"
   ]
  },
  {
   "cell_type": "code",
   "execution_count": 6,
   "metadata": {},
   "outputs": [
    {
     "name": "stdout",
     "output_type": "stream",
     "text": [
      "Saving Equation:\n"
     ]
    },
    {
     "data": {
      "image/png": "[encoded data removed]",
      "text/latex": [
       "$\\displaystyle S_{t} = A_{t} w_{t} - C_{1t}$"
      ],
      "text/plain": [
       "Sₜ = Aₜ⋅wₜ - C₁ₜ"
      ]
     },
     "metadata": {},
     "output_type": "display_data"
    },
    {
     "name": "stdout",
     "output_type": "stream",
     "text": [
      "Insert optimal first period consumption:\n"
     ]
    },
    {
     "data": {
      "image/png": "[encoded data removed]",
      "text/latex": [
       "$\\displaystyle S_{t} = - \\frac{A_{t} w_{t} \\left(\\rho + 1\\right)}{\\rho + 2} + A_{t} w_{t}$"
      ],
      "text/plain": [
       "       Aₜ⋅wₜ⋅(ρ + 1)        \n",
       "Sₜ = - ───────────── + Aₜ⋅wₜ\n",
       "           ρ + 2            "
      ]
     },
     "metadata": {},
     "output_type": "display_data"
    },
    {
     "name": "stdout",
     "output_type": "stream",
     "text": [
      "Simplify:\n"
     ]
    },
    {
     "data": {
      "image/png": "[encoded data removed]",
      "text/latex": [
       "$\\displaystyle S_{t} = \\frac{A_{t} w_{t}}{\\rho + 2}$"
      ],
      "text/plain": [
       "     Aₜ⋅wₜ\n",
       "Sₜ = ─────\n",
       "     ρ + 2"
      ]
     },
     "metadata": {},
     "output_type": "display_data"
    }
   ],
   "source": [
    "# In order to get total savings, we only have to rearrange the budget constraint from period 1 and insert optimal consumption we just derived:\n",
    "\n",
    "savings_period1 = sm.solve(budget_constraint_p1,St)\n",
    "savings_period1_fullequation = sm.Eq(St,savings_period1[0])\n",
    "savings_formula = savings_period1_fullequation.subs(C1t,sol1[0])\n",
    "savings_formula_simplified=sm.simplify(savings_formula)\n",
    "\n",
    "# We print all the steps and the result:\n",
    "print('Saving Equation:')\n",
    "display(savings_period1_fullequation)\n",
    "print('Insert optimal first period consumption:')\n",
    "display(savings_formula)\n",
    "print('Simplify:')\n",
    "display(savings_formula_simplified)"
   ]
  },
  {
   "cell_type": "code",
   "execution_count": 7,
   "metadata": {},
   "outputs": [
    {
     "name": "stdout",
     "output_type": "stream",
     "text": [
      "Total savings:\n"
     ]
    },
    {
     "data": {
      "image/png": "[encoded data removed]",
      "text/latex": [
       "$\\displaystyle S_{t} = A_{t} s(r_{t+1)} w_{t}$"
      ],
      "text/plain": [
       "Sₜ = Aₜ⋅s(rₜ₊₁₎⋅wₜ"
      ]
     },
     "metadata": {},
     "output_type": "display_data"
    },
    {
     "name": "stdout",
     "output_type": "stream",
     "text": [
      "Reformulate:\n"
     ]
    },
    {
     "data": {
      "image/png": "[encoded data removed]",
      "text/latex": [
       "$\\displaystyle s(r_{t+1)} = \\frac{S_{t}}{A_{t} w_{t}}$"
      ],
      "text/plain": [
       "            Sₜ \n",
       "s(rₜ₊₁₎ = ─────\n",
       "          Aₜ⋅wₜ"
      ]
     },
     "metadata": {},
     "output_type": "display_data"
    },
    {
     "name": "stdout",
     "output_type": "stream",
     "text": [
      "Insert Saving Equation and simplify:\n"
     ]
    },
    {
     "data": {
      "image/png": "[encoded data removed]",
      "text/latex": [
       "$\\displaystyle s(r_{t+1)} = \\frac{1}{\\rho + 2}$"
      ],
      "text/plain": [
       "            1  \n",
       "s(rₜ₊₁₎ = ─────\n",
       "          ρ + 2"
      ]
     },
     "metadata": {},
     "output_type": "display_data"
    }
   ],
   "source": [
    "# Having calculated total savings, we can also calculate the saving rate:\n",
    "\n",
    "total_savings=sm.Eq(St ,s*wt*At)\n",
    "saving_r = sm.solve(total_savings,s)\n",
    "saving_r2 = sm.Eq(s ,saving_r[0])\n",
    "saving_rate_equation = saving_r2.subs(St,sm.simplify(savings_period1[0].subs(C1t,sol1[0])))\n",
    "\n",
    "print('Total savings:')\n",
    "display(total_savings)\n",
    "print('Reformulate:')\n",
    "display(saving_r2)\n",
    "print('Insert Saving Equation and simplify:')\n",
    "display(saving_rate_equation)"
   ]
  },
  {
   "cell_type": "code",
   "execution_count": 8,
   "metadata": {},
   "outputs": [
    {
     "name": "stdout",
     "output_type": "stream",
     "text": [
      "Saving Rate: s=\n"
     ]
    },
    {
     "data": {
      "image/png": "[encoded data removed]",
      "text/latex": [
       "$\\displaystyle \\frac{1}{\\rho + 2}$"
      ],
      "text/plain": [
       "  1  \n",
       "─────\n",
       "ρ + 2"
      ]
     },
     "metadata": {},
     "output_type": "display_data"
    }
   ],
   "source": [
    "# For later, we define the saving rate \n",
    "# as saving_rate_equation shows the whole equation for illustration reasons, but we only need the right-hand term).\n",
    "\n",
    "saving_rate = 1/(2+rho)\n",
    "print('Saving Rate: s=')\n",
    "display(saving_rate)"
   ]
  },
  {
   "cell_type": "markdown",
   "metadata": {},
   "source": [
    "### **Production**\n",
    "<p>         <br>\n",
    "So far we have just introduced the households. We consider the case where firms have a standart neoclssical Cobb-Douglas production function:\n",
    "\n",
    "\\begin{eqnarray*}\n",
    "Y_t=F(K_t,A_tL_t)=(K_t)^\\alpha(A_tL_t)^{1-\\alpha}\n",
    "\\end{eqnarray*}\n",
    "\n",
    "where total factor productivity as well as population grow with a certain rate:\n",
    "    \n",
    "\\begin{eqnarray*}\n",
    "A_t=(1+g)A_{t-1}\n",
    "\\end{eqnarray*}\n",
    "\n",
    "\\begin{eqnarray*}\n",
    "L_t=(1+n)L_{t-1}\n",
    "\\end{eqnarray*}\n",
    "\n",
    "- $K_t$ = capital stock in period t\n",
    "- $A_t$ = total factor productivity in t\n",
    "- $L_t$ = amount of labour in t\n",
    "- $\\alpha$ = capital share in production\n",
    "- $g$ = growth rate of total factor productivity\n",
    "- $n$ = growth rate of population\n",
    "    \n",
    "As we use the terms of effectice labor, it is however much easier to exert the intensive form of production. Hence we define:\n",
    "\n",
    "\\begin{eqnarray*}\n",
    "\\frac{1}{A_tL_t}F(K_t,A_tL_t)=F(\\frac{K_t}{A_tL_t},1)\n",
    "\\end{eqnarray*}   \n",
    "    \n",
    "and in this particular case\n",
    "    \n",
    "\\begin{eqnarray*}\n",
    "y=f(k_t)=k_t^\\alpha\n",
    "\\end{eqnarray*}  \n",
    " \n",
    "with    \n",
    "    \n",
    "\\begin{eqnarray*}\n",
    "k_t=\\frac{K_t}{A_tL_t}, y_t=\\frac{Y_t}{A_tL_t}, f(k_t)=F(k_t,1)\n",
    "\\end{eqnarray*}      \n",
    "    \n",
    "We further assume that factor markets are perfektly competitive, i.e.:\n",
    "    \n",
    "\\begin{eqnarray*}\n",
    "r_t=f'(k_t)\n",
    "\\end{eqnarray*}\n",
    "    \n",
    "\\begin{eqnarray*}  \n",
    "w_t=f(k_t)-f'(k_t)k_t \n",
    "\\end{eqnarray*}\n",
    "<p>         <br>"
   ]
  },
  {
   "cell_type": "code",
   "execution_count": 9,
   "metadata": {},
   "outputs": [],
   "source": [
    "# We define the missing corresponding sympy variables:\n",
    "\n",
    "yt = sm.symbols('y_t')\n",
    "kt = sm.symbols('k_t')\n",
    "rt = sm.symbols('r_t') "
   ]
  },
  {
   "cell_type": "code",
   "execution_count": 10,
   "metadata": {},
   "outputs": [
    {
     "name": "stdout",
     "output_type": "stream",
     "text": [
      "Production Function:\n"
     ]
    },
    {
     "data": {
      "image/png": "[encoded data removed]",
      "text/latex": [
       "$\\displaystyle y_{t} = k_{t}^{\\alpha}$"
      ],
      "text/plain": [
       "       α\n",
       "yₜ = kₜ "
      ]
     },
     "metadata": {},
     "output_type": "display_data"
    }
   ],
   "source": [
    "# Define the production function:\n",
    "\n",
    "f = kt**alpha\n",
    "print('Production Function:')\n",
    "display(sm.Eq(yt,f))"
   ]
  },
  {
   "cell_type": "code",
   "execution_count": 11,
   "metadata": {},
   "outputs": [
    {
     "name": "stdout",
     "output_type": "stream",
     "text": [
      "Real Interest Rate:\n"
     ]
    },
    {
     "data": {
      "image/png": "[encoded data removed]",
      "text/latex": [
       "$\\displaystyle r_{t} = \\alpha k_{t}^{\\alpha - 1}$"
      ],
      "text/plain": [
       "         α - 1\n",
       "rₜ = α⋅kₜ     "
      ]
     },
     "metadata": {},
     "output_type": "display_data"
    }
   ],
   "source": [
    "# Calculate the real interest rate:\n",
    "\n",
    "real_interest_rate = sm.diff(f,kt)\n",
    "real_interest_rate = sm.simplify(real_interest_rate)\n",
    "print('Real Interest Rate:')\n",
    "display(sm.Eq(rt,real_interest_rate))"
   ]
  },
  {
   "cell_type": "code",
   "execution_count": 12,
   "metadata": {},
   "outputs": [
    {
     "name": "stdout",
     "output_type": "stream",
     "text": [
      "Wage Rate per Unit of Effective Labor:\n"
     ]
    },
    {
     "data": {
      "image/png": "[encoded data removed]",
      "text/latex": [
       "$\\displaystyle w_{t} = k_{t}^{\\alpha} \\left(1 - \\alpha\\right)$"
      ],
      "text/plain": [
       "       α        \n",
       "wₜ = kₜ ⋅(1 - α)"
      ]
     },
     "metadata": {},
     "output_type": "display_data"
    }
   ],
   "source": [
    "# Calculate the wage rate per unit of effective labor:\n",
    "\n",
    "wage_rate = f-sm.diff(f,kt)*kt\n",
    "wage_rate = sm.simplify(wage_rate)\n",
    "print('Wage Rate per Unit of Effective Labor:')\n",
    "display(sm.Eq(wt,wage_rate))"
   ]
  },
  {
   "cell_type": "markdown",
   "metadata": {},
   "source": [
    "### **Balanced growth path & steady state**\n",
    "<p>         <br>\n",
    "We are now able to set up the transition to the balanced growth path:\n",
    "    \n",
    "\\begin{eqnarray*}\n",
    "K_{t+1}=s(r_{t+1})w_tA_tL_t\n",
    "\\end{eqnarray*}\n",
    "    \n",
    "and therefore    \n",
    "    \n",
    "\\begin{eqnarray*}\n",
    "k_{t+1}=s(r_{t+1})w_t\\frac{A_tL_t}{A_{t+1}L_{t+1}}=s(r_{t+1})w_t\\frac{A_tL_t}{A_t(1+g)L_t(1+n)}=s(r_{t+1})w_t\\frac{1}{(1+g)(1+n)}\n",
    "\\end{eqnarray*}\n",
    "<p>         <br>"
   ]
  },
  {
   "cell_type": "code",
   "execution_count": 13,
   "metadata": {},
   "outputs": [],
   "source": [
    "# Define again the necessary sympy variables:\n",
    "\n",
    "kt1 = sm.symbols('k_t+1')\n",
    "\n",
    "g = sm.symbols('g')\n",
    "n = sm.symbols('n')"
   ]
  },
  {
   "cell_type": "code",
   "execution_count": 14,
   "metadata": {},
   "outputs": [
    {
     "name": "stdout",
     "output_type": "stream",
     "text": [
      "Transition Equation:\n"
     ]
    },
    {
     "data": {
      "image/png": "[encoded data removed]",
      "text/latex": [
       "$\\displaystyle k_{t+1} = \\frac{s(r_{t+1)} w_{t}}{\\left(g + 1\\right) \\left(n + 1\\right)}$"
      ],
      "text/plain": [
       "          s(rₜ₊₁₎⋅wₜ  \n",
       "kₜ₊₁ = ───────────────\n",
       "       (g + 1)⋅(n + 1)"
      ]
     },
     "metadata": {},
     "output_type": "display_data"
    }
   ],
   "source": [
    "# We also define the transition function as sympy:\n",
    "\n",
    "transition_int = sm.Eq(kt1,s*wt*(1/((1+g)*(1+n))))\n",
    "print('Transition Equation:')\n",
    "display(transition_int)"
   ]
  },
  {
   "cell_type": "code",
   "execution_count": 15,
   "metadata": {},
   "outputs": [
    {
     "name": "stdout",
     "output_type": "stream",
     "text": [
      "Transition Equation with Saving and Wage rates plugged-in:\n"
     ]
    },
    {
     "data": {
      "image/png": "[encoded data removed]",
      "text/latex": [
       "$\\displaystyle k_{t+1} = \\frac{k_{t}^{\\alpha} \\left(1 - \\alpha\\right)}{\\left(g + 1\\right) \\left(n + 1\\right) \\left(\\rho + 2\\right)}$"
      ],
      "text/plain": [
       "               α              \n",
       "             kₜ ⋅(1 - α)      \n",
       "kₜ₊₁ = ───────────────────────\n",
       "       (g + 1)⋅(n + 1)⋅(ρ + 2)"
      ]
     },
     "metadata": {},
     "output_type": "display_data"
    }
   ],
   "source": [
    "# And we can plug in the saving rate s as well as the wage rate wt:\n",
    "\n",
    "transition_int2 = transition_int.subs(s,saving_rate)\n",
    "transition_int2 = transition_int2.subs(wt,wage_rate)\n",
    "print('Transition Equation with Saving and Wage rates plugged-in:')\n",
    "display(transition_int2)"
   ]
  },
  {
   "cell_type": "code",
   "execution_count": 16,
   "metadata": {},
   "outputs": [
    {
     "name": "stdout",
     "output_type": "stream",
     "text": [
      "In SS k is constant:\n"
     ]
    },
    {
     "data": {
      "image/png": "[encoded data removed]",
      "text/latex": [
       "$\\displaystyle k_{t} = \\frac{k_{t}^{\\alpha} \\left(1 - \\alpha\\right)}{\\left(g + 1\\right) \\left(n + 1\\right) \\left(\\rho + 2\\right)}$"
      ],
      "text/plain": [
       "             α              \n",
       "           kₜ ⋅(1 - α)      \n",
       "kₜ = ───────────────────────\n",
       "     (g + 1)⋅(n + 1)⋅(ρ + 2)"
      ]
     },
     "metadata": {},
     "output_type": "display_data"
    }
   ],
   "source": [
    "# We then simply replace k_t+1 with k_t:\n",
    "\n",
    "ss = transition_int2.subs(kt1,kt)\n",
    "print('In SS k is constant:')\n",
    "display(ss)"
   ]
  },
  {
   "cell_type": "code",
   "execution_count": 17,
   "metadata": {},
   "outputs": [
    {
     "name": "stdout",
     "output_type": "stream",
     "text": [
      "Steady-State k:\n"
     ]
    },
    {
     "data": {
      "image/png": "[encoded data removed]",
      "text/latex": [
       "$\\displaystyle \\left(\\frac{- g n \\rho - 2 g n - g \\rho - 2 g - n \\rho - 2 n - \\rho - 2}{\\alpha - 1}\\right)^{\\frac{1}{\\alpha - 1}}$"
      ],
      "text/plain": [
       "                                                  1  \n",
       "                                                ─────\n",
       "                                                α - 1\n",
       "⎛-g⋅n⋅ρ - 2⋅g⋅n - g⋅ρ - 2⋅g - n⋅ρ - 2⋅n - ρ - 2⎞     \n",
       "⎜──────────────────────────────────────────────⎟     \n",
       "⎝                    α - 1                     ⎠     "
      ]
     },
     "metadata": {},
     "output_type": "display_data"
    }
   ],
   "source": [
    "# And are the able to calculate the steady state. The numerator looks complicated is however only the product of (1+g)(1+n)(2+p):\n",
    "\n",
    "kss = sm.solve(ss,kt)[0]\n",
    "print('Steady-State k:')\n",
    "display(kss)"
   ]
  },
  {
   "cell_type": "markdown",
   "metadata": {},
   "source": [
    "### **Steady-state calculation**\n",
    "\n",
    "In this part we will now set up functions in order to calculate the steady-state."
   ]
  },
  {
   "cell_type": "code",
   "execution_count": 18,
   "metadata": {},
   "outputs": [],
   "source": [
    "# It is then straightforward to set up a steady-sate function:\n",
    "\n",
    "ss_func = sm.lambdify((alpha,g,n,rho),kss)\n",
    "\n",
    "# we define a function with which we can calcluate the steady state with flexible parameteres:\n",
    "def ss_calc(alpha,g,n,rho):\n",
    "    result = ss_func(alpha,g,n,rho)\n",
    "    print(f'The steady state solved by the standard python function is: {result}')"
   ]
  },
  {
   "cell_type": "code",
   "execution_count": 19,
   "metadata": {},
   "outputs": [
    {
     "data": {
      "application/vnd.jupyter.widget-view+json": {
       "model_id": "05df4254317240ab828f654cec9a4921",
       "version_major": 2,
       "version_minor": 0
      },
      "text/plain": [
       "interactive(children=(FloatSlider(value=0.01, continuous_update=False, description='$\\\\alpha$', max=0.99, min=…"
      ]
     },
     "metadata": {},
     "output_type": "display_data"
    },
    {
     "data": {
      "text/plain": [
       "<function __main__.ss_calc(alpha, g, n, rho)>"
      ]
     },
     "execution_count": 19,
     "metadata": {},
     "output_type": "execute_result"
    }
   ],
   "source": [
    "# with this widget one can choose the parameter and it yields the steady state capital stock\n",
    "widgets.interact(\n",
    "        ss_calc, \n",
    "        alpha = widgets.FloatSlider(description=\"$\\\\alpha$\", min=0.01, max=0.99, step=0.01, continuous_update=False,),\n",
    "        rho = widgets.FloatSlider(description=\"$\\\\rho$\", min=0, max=0.99, step=0.01, continuous_update=False,),\n",
    "        g = widgets.FloatSlider(description=\"g\", min=-0.99, max=0.99, step=0.01, continuous_update=False,),\n",
    "        n = widgets.FloatSlider(description=\"n\", min=-0.99, max=0.99, step=0.01, continuous_update=False,),      \n",
    ")"
   ]
  },
  {
   "cell_type": "code",
   "execution_count": 20,
   "metadata": {},
   "outputs": [
    {
     "name": "stdout",
     "output_type": "stream",
     "text": [
      "The steady state solved by a standart python function is: 0.17221708150191095\n"
     ]
    }
   ],
   "source": [
    "# we call the steady-state function with certain values as input as comparison:\n",
    "# we choose parameters, which we think are reasonable today\n",
    "\n",
    "result = ss_func(1/3,0.03,0.02,0.05)\n",
    "print(f'The steady state solved by a standart python function is: {result}')"
   ]
  },
  {
   "cell_type": "code",
   "execution_count": 21,
   "metadata": {},
   "outputs": [
    {
     "name": "stdout",
     "output_type": "stream",
     "text": [
      "The steady state solved numerically with optimize.root_scalar is: 0.1722170815014273\n",
      "Details are as followed:\n"
     ]
    },
    {
     "data": {
      "text/plain": [
       "      converged: True\n",
       "           flag: 'converged'\n",
       " function_calls: 8\n",
       "     iterations: 7\n",
       "           root: 0.1722170815014273"
      ]
     },
     "execution_count": 21,
     "metadata": {},
     "output_type": "execute_result"
    }
   ],
   "source": [
    "# We can now solve this the problem numerically with optimize.root_scalar. \n",
    "# However we have to make sure that we do not overwrite the already defined variables:\n",
    "\n",
    "alpha_2 = 1/3\n",
    "g_2 = 0.03\n",
    "n_2 = 0.02\n",
    "rho_2 =0.05\n",
    "\n",
    "obj_kss = lambda kss: kss - ((kss**alpha_2*(1-alpha_2))/((1+g_2)*(1+n_2)*(2+rho_2)))\n",
    "\n",
    "result2 = optimize.root_scalar(obj_kss,bracket=[0.1,100],method='brentq')\n",
    "print(f'The steady state solved numerically with optimize.root_scalar is: {result2.root}')\n",
    "print(f'Details are as followed:')\n",
    "result2"
   ]
  },
  {
   "cell_type": "code",
   "execution_count": 22,
   "metadata": {},
   "outputs": [
    {
     "data": {
      "text/plain": [
       "True"
      ]
     },
     "execution_count": 22,
     "metadata": {},
     "output_type": "execute_result"
    }
   ],
   "source": [
    "# We test if the two solutions are the same:\n",
    "\n",
    "np.allclose(result, result2.root)"
   ]
  },
  {
   "cell_type": "markdown",
   "metadata": {},
   "source": [
    "### **Steady-state illustration**\n",
    "\n",
    "We now set up a plot, where the balanced growth path as well as the steady-state are shown. With several sliders one then can choose values for the different variabels and parameters."
   ]
  },
  {
   "cell_type": "code",
   "execution_count": 23,
   "metadata": {},
   "outputs": [],
   "source": [
    "# We have to define first an equation corresponding to transition_int2 i.e. the corresponding path:\n",
    "\n",
    "def kt1_func(kt, alpha, rho, n, g):                                \n",
    "    return ((1-alpha)*kt**alpha)/((2+rho)*(1+n)*(1+g))\n",
    "\n",
    "kt = np.linspace(0,1,500) "
   ]
  },
  {
   "cell_type": "code",
   "execution_count": 24,
   "metadata": {
    "scrolled": false
   },
   "outputs": [
    {
     "data": {
      "application/vnd.jupyter.widget-view+json": {
       "model_id": "74c2f40f6be34bc4a0d6f8a383aa3be6",
       "version_major": 2,
       "version_minor": 0
      },
      "text/plain": [
       "interactive(children=(FloatSlider(value=0.3333333333333333, continuous_update=False, description='$\\\\alpha$', …"
      ]
     },
     "metadata": {},
     "output_type": "display_data"
    },
    {
     "data": {
      "text/plain": [
       "<function __main__.plot_OLG(alpha, rho, g, n)>"
      ]
     },
     "execution_count": 24,
     "metadata": {},
     "output_type": "execute_result"
    }
   ],
   "source": [
    "# And the plot function:\n",
    "\n",
    "def plot_OLG(alpha,rho,g,n):\n",
    "    plt.figure(dpi=150)\n",
    "    plt.plot(kt,kt1_func(kt, alpha, rho, n, g), color = 'green')\n",
    "    plt.plot(range(10),range(10), color = 'blue')\n",
    "    plt.plot(ss_func(alpha,g,n,rho),ss_func(alpha,g,n,rho), marker='*',color='red')\n",
    "    plt.title('OLG model: Basic version')  \n",
    "    plt.xlabel('$ k_t $')\n",
    "    plt.ylabel( '$ k_ {t + 1} $')\n",
    "    plt.xlim([0,1])\n",
    "    plt.ylim([0,1]) \n",
    "    plt.legend(('BGP', '45\\N{DEGREE SIGN}-line', 'steady state'), loc='upper left')\n",
    "    plt.grid()\n",
    "    sol = np.round(ss_func(alpha,g,n,rho),3)\n",
    "    text = 'Steady state at: ' + str(sol)\n",
    "    plt.text(0.64,0.95,text, fontsize='small', c='red', bbox=dict(facecolor='none', edgecolor='red'))\n",
    "    text = 'Here you can choose all variables and parameters of the basic OLG model!'\n",
    "    plt.text(0, 1.1, text, fontsize='x-small', c='black')\n",
    "    \n",
    "\n",
    "# Plotting plots, with interactive slider\n",
    "widgets.interact(\n",
    "        plot_OLG, \n",
    "        alpha = widgets.FloatSlider(description=\"$\\\\alpha$\", min=0.01, max=0.99, step=0.01, value=alpha_2, continuous_update=False,),\n",
    "        rho = widgets.FloatSlider(description=\"$\\\\rho$\", min=-0.99, max=0.99, step=0.01, value=rho_2, continuous_update=False,),\n",
    "        g = widgets.FloatSlider(description=\"g\", min=-0.99, max=0.99, step=0.01, value=g_2, continuous_update=False,),\n",
    "        n = widgets.FloatSlider(description=\"n\", min=-0.99, max=0.99, step=0.01, value=n_2, continuous_update=False,),      \n",
    ")"
   ]
  },
  {
   "cell_type": "markdown",
   "metadata": {},
   "source": [
    "### Comparison of the steeady state depending on the parameters"
   ]
  },
  {
   "cell_type": "markdown",
   "metadata": {},
   "source": [
    "In the steady state the capital per unit of effective labor is constant and depends only on four parameters. In the this section, we compare some output variables like the consumption, utility and output depending on these input parameters. "
   ]
  },
  {
   "cell_type": "code",
   "execution_count": 25,
   "metadata": {},
   "outputs": [],
   "source": [
    "def parameter_comparison(alpha, rho, n, g, alpha2, rho2, n2, g2):\n",
    "    # steady-state k\n",
    "    result = ss_func(alpha, rho, n, g)\n",
    "    result2 = ss_func(alpha2, rho2, n2, g2)\n",
    "    \n",
    "    fig, axs = plt.subplots(4, 2, figsize=(15,15))\n",
    "    fig.suptitle('Steady State Comparison Depending on Different Parameters', fontsize=20)\n",
    "    \n",
    "    # Technology\n",
    "    At = A*(1+g)**t\n",
    "    At2 = A*(1+g2)**t\n",
    "    axs[0, 0].plot(t, At, c='blue')\n",
    "    axs[0, 0].plot(t, At2, c='green')\n",
    "    axs[0, 0].set_title('Technology A')\n",
    "    axs[0, 0].grid()    \n",
    "    axs[0, 0].legend(('Parameters 1', 'Parameters 2'), loc='upper left')\n",
    "    \n",
    "    # Labor\n",
    "    Lt = L*(1+n)**t\n",
    "    Lt2 = L*(1+n2)**t    \n",
    "    axs[0, 1].plot(t, Lt, c='blue')\n",
    "    axs[0, 1].plot(t, Lt2, c='green')\n",
    "    axs[0, 1].set_title('Labor L')\n",
    "    axs[0, 1].grid()    \n",
    "    axs[0, 1].legend(('Parameters 1', 'Parameters 2'), loc='upper left')\n",
    "    \n",
    "    # wage as defined above \n",
    "    w = np.empty(t.size)\n",
    "    w2 = np.empty(t.size)\n",
    "    for i in range(t.size):\n",
    "        w[i] = result**alpha *(1-alpha)\n",
    "        w2[i] = result2**alpha2 *(1-alpha2)\n",
    "        \n",
    "    axs[1, 0].plot(t, w, c='blue')\n",
    "    axs[1, 0].plot(t, w2, c='green')\n",
    "    axs[1, 0].set_title('Wage Rate per Unit of Effective Labor')\n",
    "    axs[1, 0].grid()    \n",
    "    axs[1, 0].legend(('Parameters 1', 'Parameters 2'), loc='center left')\n",
    "    \n",
    "    # real interest rate as defined above\n",
    "    r = np.empty(t.size)\n",
    "    r2 = np.empty(t.size)\n",
    "    for i in range(t.size):\n",
    "        r[i] = result**(alpha-1) *(alpha)\n",
    "        r2[i] = result2**(alpha2-1) *(alpha2)\n",
    "        \n",
    "    axs[1, 1].plot(t, r, c='blue')\n",
    "    axs[1, 1].plot(t, r2, c='green')    \n",
    "    axs[1, 1].set_title('Real Interest Rate')\n",
    "    axs[1, 1].grid()\n",
    "    axs[1, 1].legend(('Parameters 1', 'Parameters 2'), loc='center left')\n",
    "    \n",
    "    # consumption period 1 as defined above\n",
    "    C_t1 = A*(1+g)**t*w*(rho+1)/(rho+2)\n",
    "    C2_t1 = A*(1+g2)**t*w2*(rho2+1)/(rho2+2)\n",
    "    \n",
    "    axs[2, 0].plot(t, C_t1, c='blue')\n",
    "    axs[2, 0].plot(t, C2_t1, c='green') \n",
    "    axs[2, 0].set_title('HH Consumption in Period 1')\n",
    "    axs[2, 0].grid()\n",
    "    axs[2, 0].legend(('Parameters 1', 'Parameters 2'), loc='upper left')\n",
    "    \n",
    "    # consumption period 2 as defined above\n",
    "    C_t2 = A*(1+g)**t*w*(1+r)/(rho+2)\n",
    "    C2_t2 = A*(1+g2)**t*w2*(1+r2)/(rho2+2)\n",
    "    \n",
    "    axs[2, 1].plot(t, C_t2, c='blue')\n",
    "    axs[2, 1].plot(t, C2_t2, c='green') \n",
    "    axs[2, 1].set_title('HH Consumption in Period 2')\n",
    "    axs[2, 1].grid()\n",
    "    axs[2, 1].legend(('Parameters 1', 'Parameters 2'), loc='upper left')\n",
    "    \n",
    "    # utility \n",
    "    U = np.log(C_t1) + np.log(C_t2)/(rho+1)\n",
    "    U2 = np.log(C2_t1) + np.log(C2_t2)/(rho2+1)\n",
    "    axs[3, 0].plot(t, U, c='blue')\n",
    "    axs[3, 0].plot(t, U2, c='green') \n",
    "    axs[3, 0].set_title('Lifetime Utility of a HH')\n",
    "    axs[3, 0].grid()\n",
    "    axs[3, 0].legend(('Parameters 1', 'Parameters 2'), loc='upper left')\n",
    "    \n",
    "    # production\n",
    "    Y = result**alpha*(A*(1+g)**t *(L*(1+n)**t))\n",
    "    Y2 = result2**alpha2*(A*(1+g2)**t *(L*(1+n2)**t))\n",
    "    axs[3, 1].plot(t, Y, c='blue')\n",
    "    axs[3, 1].plot(t, Y2, c='green') \n",
    "    axs[3, 1].set_title('Production of the Whole Economy Y')\n",
    "    axs[3, 1].grid()\n",
    "    axs[3, 1].legend(('Parameters 1', 'Parameters 2'), loc='upper left')\n",
    "    \n",
    "    fig.text(0.5, 0.10, 'Time', ha='center', va='center',  fontsize=16)\n",
    "    fig.text(0.08, 0.5, 'Variable of Interest', ha='center', va='center', rotation='vertical',  fontsize=16)\n"
   ]
  },
  {
   "cell_type": "code",
   "execution_count": 26,
   "metadata": {},
   "outputs": [
    {
     "data": {
      "application/vnd.jupyter.widget-view+json": {
       "model_id": "6a7b0cc9b29348e788fd45f8442ee39b",
       "version_major": 2,
       "version_minor": 0
      },
      "text/plain": [
       "interactive(children=(FloatSlider(value=0.3333333333333333, continuous_update=False, description='$\\\\alpha_1$'…"
      ]
     },
     "metadata": {},
     "output_type": "display_data"
    },
    {
     "data": {
      "text/plain": [
       "<function __main__.parameter_comparison(alpha, rho, n, g, alpha2, rho2, n2, g2)>"
      ]
     },
     "execution_count": 26,
     "metadata": {},
     "output_type": "execute_result"
    }
   ],
   "source": [
    "A = 1\n",
    "L = 1\n",
    "t = np.linspace(0,100,100)\n",
    "widgets.interact(\n",
    "        parameter_comparison, \n",
    "        alpha = widgets.FloatSlider(description=\"$\\\\alpha_1$\", min=0.01, max=0.99, step=0.01, value=alpha_2, continuous_update=False,),\n",
    "        rho = widgets.FloatSlider(description=\"$\\\\rho_1$\", min=-0.99, max=0.99, step=0.01, value= rho_2, continuous_update=False,),\n",
    "        g = widgets.FloatSlider(description=\"$g_1$\", min=-0.99, max=0.99, step=0.01, continuous_update=False,),\n",
    "        n = widgets.FloatSlider(description=\"$n_1$\", min=-0.99, max=0.99, step=0.01, continuous_update=False,),\n",
    "        alpha2 = widgets.FloatSlider(description=\"$\\\\alpha_2$\", min=0.01, max=0.99, step=0.01, value=alpha_2, continuous_update=False,),\n",
    "        rho2 = widgets.FloatSlider(description=\"$\\\\rho_2$\", min=-0.99, max=0.99, step=0.01, value=rho_2, continuous_update=False,),\n",
    "        g2 = widgets.FloatSlider(description=\"$g_2$\", min=-0.99, max=0.99, step=0.01, value=g_2, continuous_update=False,),\n",
    "        n2 = widgets.FloatSlider(description=\"$n_2$\", min=-0.99, max=0.99, step=0.01, value=n_2, continuous_update=False,),\n",
    ")"
   ]
  },
  {
   "cell_type": "markdown",
   "metadata": {},
   "source": [
    "The figure shows that:\n",
    "- in the steady state the wage per unit of effective labor is constant, this statement is true for all variables measured in effective labor units\n",
    "- the real interest rate is constant, because it depends on the steady state capital stock per unit of effective labor, which is constant\n",
    "- the houshold consumption and lifetime utility depends crucially on the technology growth, g\n",
    "- the whole production of the economy grows with g and n"
   ]
  },
  {
   "cell_type": "markdown",
   "metadata": {},
   "source": [
    "## **OLG with a government**\n",
    "<p>         <br>\n",
    "The basic OLG from the first part is not that realistic. What is missing for example is goverment spending, which of course has to be financed somehow. The two basic means to finance government spending is either through taxes or otherwise by issuing debt-bonds. Both of them reduce the available income of some generations, and it is therefore interesting to study what effect such an implementation of a goverment has for the balanced-growth-path as well as the steady-state. As before, we do not change the setting of log-utility and Cobb-Douglas productivity. Furthermore, goverment spending G_t is also measured as spending per unit of effective labor (as well as taxes and bonds). What is obvious is that the government spending must be balanced, i.e.\n",
    "    \n",
    "\\begin{eqnarray*}\n",
    "G_t=T_t\\\\ G_t=b_t  \n",
    "\\end{eqnarray*}    \n",
    "\n",
    "We first consider a labor tax, i.e.\n",
    "    \n",
    "\\begin{eqnarray*}\n",
    "C_{1t}=A_t(w_t-T_t)-S_t\n",
    "\\end{eqnarray*}\n",
    "    \n",
    "Savings are then:\n",
    "    \n",
    "\\begin{eqnarray*}\n",
    "S_t=\\frac{1}{2+\\rho}A_t(w_t-T_t)\n",
    "\\end{eqnarray*}   \n",
    "    \n",
    "Ant the balanced growth path becomes:\n",
    "\n",
    "\\begin{eqnarray*}    \n",
    "k_{t+1}=\\frac{(1-\\alpha)k_t^\\alpha-T_t}{(1+g)(1+n)(2+\\rho)}   \n",
    "\\end{eqnarray*}    \n",
    "    \n",
    "With debt issuing, it is much more straightforward, as individuals buy government bonds instead of saving and the balanced growth path becomes therefore:\n",
    "    \n",
    "\\begin{eqnarray*}    \n",
    "k_{t+1}=\\frac{(1-\\alpha)k_t^\\alpha}{(1+g)(1+n)(2+\\rho)}-b_{t+1}  \n",
    "\\end{eqnarray*}    \n",
    "    \n",
    "Let's analyse the effect with a nice plot:"
   ]
  },
  {
   "cell_type": "code",
   "execution_count": 27,
   "metadata": {},
   "outputs": [],
   "source": [
    "# We redefine the corresponding path steady-state functions:\n",
    "\n",
    "kt = sm.symbols('k_t')\n",
    "kt1 = sm.symbols('k_t+1')\n",
    "alpha = sm.symbols('alpha')\n",
    "T = sm.symbols('T_t')\n",
    "bt1 = sm.symbols('b_t+1')    \n",
    "g = sm.symbols('g')\n",
    "n = sm.symbols('n')\n",
    "rho = sm.symbols('rho')\n",
    "\n",
    "tax_transition = sm.Eq(kt1,((1-alpha)*kt**alpha-T)/((1+g)*(1+n)*(2+rho)))\n",
    "bond_transition = sm.Eq(kt1,(((1-alpha)*kt**alpha)/((1+g)*(1+n)*(2+rho)))-bt1)\n",
    "\n",
    "ss_tax = tax_transition.subs(kt1,kt)\n",
    "# kss = sm.solve(ss_tax,kt)[0]          # Try this command; we are not able to calculate the kss-formula as before!!!\n",
    "\n",
    "                                        # This means that we are not able to plot stars for the new steady states, which is no that bad as\n",
    "                                        # steady states are obvious when plotting a 45°-line."
   ]
  },
  {
   "cell_type": "code",
   "execution_count": 28,
   "metadata": {},
   "outputs": [],
   "source": [
    "# We also redefine the corresponding path equations:\n",
    "\n",
    "def kt1_no_gov_func(kt, alpha, rho, n, g):                                \n",
    "    return ((1-alpha)*kt**alpha)/((2+rho)*(1+n)*(1+g))\n",
    "\n",
    "def kt1_with_tax_func(kt, alpha, rho, n, g, G):            # With G as variable instead of T_t                    \n",
    "    return ((1-alpha)*kt**alpha-G)/((2+rho)*(1+n)*(1+g))\n",
    "\n",
    "def kt1_with_bonds_func(kt, alpha, rho, n, g, G):          # With G as variable instead of b_t+1                   \n",
    "    return ((1-alpha)*kt**alpha)/((2+rho)*(1+n)*(1+g))-G\n",
    "\n",
    "kt = np.linspace(0,1,500) "
   ]
  },
  {
   "cell_type": "code",
   "execution_count": 29,
   "metadata": {},
   "outputs": [],
   "source": [
    "# And again the plot function:\n",
    "\n",
    "def plot_OLG_with_G(alpha,rho,g,n,G):\n",
    "    plt.figure(dpi=150)\n",
    "    plt.plot(kt,kt1_no_gov_func(kt, alpha, rho, n, g))\n",
    "    plt.plot(kt,kt1_with_tax_func(kt, alpha, rho, n, g, G))\n",
    "    plt.plot(kt,kt1_with_bonds_func(kt, alpha, rho, n, g, G))\n",
    "    plt.plot(range(10),range(10),color='black')\n",
    "    plt.title('OLG model with government G = ' + str(G))  \n",
    "    plt.xlabel('$ k_t $')\n",
    "    plt.ylabel('$ k_ {t + 1} $')\n",
    "    plt.xlim([0,1])\n",
    "    plt.ylim([0,1]) \n",
    "    plt.legend(('G=0','Tax','Bonds','45\\N{DEGREE SIGN}-line'), loc='upper left')\n",
    "    plt.grid()\n",
    "    text = 'Here you can also choose the size of government!'\n",
    "    plt.text(0, 1.1, text, fontsize='x-small', c='black')"
   ]
  },
  {
   "cell_type": "code",
   "execution_count": 30,
   "metadata": {},
   "outputs": [
    {
     "data": {
      "application/vnd.jupyter.widget-view+json": {
       "model_id": "9b79522c88ed4f7a8f2c4a4048f65705",
       "version_major": 2,
       "version_minor": 0
      },
      "text/plain": [
       "interactive(children=(FloatSlider(value=0.3333333333333333, continuous_update=False, description='$\\\\alpha$', …"
      ]
     },
     "metadata": {},
     "output_type": "display_data"
    },
    {
     "data": {
      "text/plain": [
       "<function __main__.plot_OLG_with_G(alpha, rho, g, n, G)>"
      ]
     },
     "execution_count": 30,
     "metadata": {},
     "output_type": "execute_result"
    }
   ],
   "source": [
    "widgets.interact(\n",
    "        plot_OLG_with_G, \n",
    "        G = widgets.FloatSlider(description=\"G_size\", min=0, max=0.25, step=0.01, value=0.1, continuous_update=False),\n",
    "        alpha = widgets.FloatSlider(description=\"$\\\\alpha$\", min=0.01, max=0.99, step=0.01, value=alpha_2, continuous_update=False,),\n",
    "        rho = widgets.FloatSlider(description=\"$\\\\rho$\", min=-0.99, max=0.99, step=0.01, value=rho_2, continuous_update=False,),\n",
    "        g = widgets.FloatSlider(description=\"g\", min=-0.99, max=0.99, step=0.01, value=g_2, continuous_update=False,),\n",
    "        n = widgets.FloatSlider(description=\"n\", min=-0.99, max=0.99, step=0.01, value=n_2, continuous_update=False,),        \n",
    ")"
   ]
  },
  {
   "cell_type": "markdown",
   "metadata": {},
   "source": [
    "As a result, we see that goverment spending i.e. its financing reduces the steady-state capital stock, however the effect of taxes is smaller than the effect of debt-issuing. "
   ]
  },
  {
   "cell_type": "code",
   "execution_count": 31,
   "metadata": {},
   "outputs": [
    {
     "name": "stdout",
     "output_type": "stream",
     "text": [
      "The steady state solved numerically with optimize.root_scalar is without government: 0.1722170815014273\n",
      "The steady state solved numerically with optimize.root_scalar is with taxes: 0.1434754466865211\n",
      "The steady state solved numerically with optimize.root_scalar is with bonds: 0.106913475354846\n"
     ]
    }
   ],
   "source": [
    "# As above we can now solve this the problem numerically with optimize.root_scalar. \n",
    "\n",
    "alpha = 1/3\n",
    "g = 0.03\n",
    "n = 0.02\n",
    "rho =0.05\n",
    "\n",
    "# As can be seen in the figure, the government spending can not be really big otherwise the model does not converge to a steady state.\n",
    "G= 0.04\n",
    "\n",
    "obj_kss_ = lambda kss: kss - ((1-alpha)*kss**alpha)/((2+rho)*(1+n)*(1+g))\n",
    "\n",
    "obj_kss_tax = lambda kss: kss - ((1-alpha)*kss**alpha-G)/((2+rho)*(1+n)*(1+g))  # With G as variable instead of T_t   \n",
    "\n",
    "obj_kss_bond = lambda kss: kss - (((1-alpha)*kss**alpha)/((2+rho)*(1+n)*(1+g))-G)  # With G as variable instead of b_t+1   \n",
    "\n",
    "result_ = optimize.root_scalar(obj_kss_,bracket=[0.1,100],method='brentq')\n",
    "result_t = optimize.root_scalar(obj_kss_tax,bracket=[0.1,100],method='brentq')\n",
    "result_b = optimize.root_scalar(obj_kss_bond,bracket=[0.1,100],method='brentq')\n",
    "\n",
    "print(f'The steady state solved numerically with optimize.root_scalar is without government: {result_.root}')\n",
    "\n",
    "print(f'The steady state solved numerically with optimize.root_scalar is with taxes: {result_t.root}')\n",
    "\n",
    "print(f'The steady state solved numerically with optimize.root_scalar is with bonds: {result_b.root}')\n"
   ]
  },
  {
   "cell_type": "markdown",
   "metadata": {},
   "source": [
    "## Conclusion\n",
    "\n",
    "In our model project we analyzed a standard overlapping generations model. First, we solved the household optimization using sympy. Similarly, we solved the production side. Combining these two optimal behaviors, we are able to calculate the steady state. We then visualize the steady state and the evolution of the key variables in this steady state. Moreover, we make this visualization interactive, so we can directly observe the effect of the model parameter. In the last step, we introduce a government and analyze the steady state in this case. Unfortunately, we are unable to calculate a closed form solution for the steady state. But we can show that the effect of taxes is smaller than the effect of bonds.\n"
   ]
  }
 ],
 "metadata": {
  "kernelspec": {
   "display_name": "Python 3",
   "language": "python",
   "name": "python3"
  },
  "language_info": {
   "codemirror_mode": {
    "name": "ipython",
    "version": 3
   },
   "file_extension": ".py",
   "mimetype": "text/x-python",
   "name": "python",
   "nbconvert_exporter": "python",
   "pygments_lexer": "ipython3",
   "version": "3.7.3"
  },
  "toc-autonumbering": true
 },
 "nbformat": 4,
 "nbformat_minor": 4
}
